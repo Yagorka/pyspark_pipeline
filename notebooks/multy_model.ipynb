{
 "cells": [
  {
   "cell_type": "code",
   "execution_count": 56,
   "metadata": {},
   "outputs": [],
   "source": [
    "MASTER = \"local\"\n",
    "NUM_PROCESSORS = \"8\"\n",
    "NUM_EXECUTORS = \"4\"\n",
    "NUM_PARTITIONS = 10\n",
    "\n",
    "from pyspark import SparkContext, SparkConf\n",
    "from pyspark.sql import SparkSession\n",
    "from pyspark.sql.types import StructType, StructField\n",
    "from pyspark.sql.types import DoubleType, IntegerType, StringType\n",
    "from pyspark.ml import Pipeline\n",
    "from pyspark.sql import SQLContext\n",
    "from pyspark.ml.feature import HashingTF, IDF, Tokenizer\n",
    "import pyspark.sql.functions as psf\n",
    "import json"
   ]
  },
  {
   "cell_type": "code",
   "execution_count": 57,
   "metadata": {},
   "outputs": [
    {
     "data": {
      "text/plain": [
       "<pyspark.conf.SparkConf at 0x7f97c3d40400>"
      ]
     },
     "execution_count": 57,
     "metadata": {},
     "output_type": "execute_result"
    }
   ],
   "source": [
    "conf = SparkConf()\n",
    "\n",
    "conf.set(\"spark.app.name\", \"one_part_data\")\n",
    "conf.set(\"spark.master\", MASTER)\n",
    "conf.set(\"spark.executor.cores\", NUM_PROCESSORS)\n",
    "conf.set(\"spark.executor.instances\", NUM_EXECUTORS)\n",
    "conf.set(\"spark.executor.memory\", \"6g\")\n",
    "conf.set(\"spark.locality.wait\", \"0\")\n",
    "conf.set(\"spark.serializer\", \"org.apache.spark.serializer.KryoSerializer\")\n",
    "conf.set(\"spark.kryoserializer.buffer.max\", \"2000\")\n",
    "conf.set(\"spark.executor.heartbeatInterval\", \"6000s\")\n",
    "conf.set(\"spark.network.timeout\", \"10000000s\")\n",
    "conf.set(\"spark.shuffle.spill\", \"true\")\n",
    "conf.set(\"spark.driver.memory\", \"15g\")\n",
    "conf.set(\"spark.driver.maxResultSize\", \"15g\")"
   ]
  },
  {
   "cell_type": "code",
   "execution_count": 58,
   "metadata": {},
   "outputs": [
    {
     "data": {
      "text/html": [
       "\n",
       "            <div>\n",
       "                <p><b>SparkSession - in-memory</b></p>\n",
       "                \n",
       "        <div>\n",
       "            <p><b>SparkContext</b></p>\n",
       "\n",
       "            <p><a href=\"http://192.168.0.107:4040\">Spark UI</a></p>\n",
       "\n",
       "            <dl>\n",
       "              <dt>Version</dt>\n",
       "                <dd><code>v3.3.1</code></dd>\n",
       "              <dt>Master</dt>\n",
       "                <dd><code>local[*]</code></dd>\n",
       "              <dt>AppName</dt>\n",
       "                <dd><code>SparkByExamples.com</code></dd>\n",
       "            </dl>\n",
       "        </div>\n",
       "        \n",
       "            </div>\n",
       "        "
      ],
      "text/plain": [
       "<pyspark.sql.session.SparkSession at 0x7f97c3d41300>"
      ]
     },
     "execution_count": 58,
     "metadata": {},
     "output_type": "execute_result"
    }
   ],
   "source": [
    "from pyspark.sql import SparkSession\n",
    "\n",
    "# Create SparkSession \n",
    "spark = SparkSession.builder \\\n",
    "      .config(conf=conf) \\\n",
    "      .master(\"local[*]\") \\\n",
    "      .appName(\"SparkByExamples.com\") \\\n",
    "      .getOrCreate()\n",
    "spark"
   ]
  },
  {
   "cell_type": "code",
   "execution_count": 59,
   "metadata": {},
   "outputs": [],
   "source": [
    "dataset = spark.read.csv(\"/home/yagor/Рабочий стол/mipt/lab3/notebook/nutrition_table.csv\",header=True,inferSchema=True)"
   ]
  },
  {
   "cell_type": "code",
   "execution_count": 60,
   "metadata": {},
   "outputs": [
    {
     "name": "stdout",
     "output_type": "stream",
     "text": [
      "23/01/01 17:32:12 WARN CSVHeaderChecker: CSV header does not conform to the schema.\n",
      " Header: , fat_100g, carbohydrates_100g, sugars_100g, proteins_100g, salt_100g, energy_100g, reconstructed_energy, g_sum, exceeded, product\n",
      " Schema: _c0, fat_100g, carbohydrates_100g, sugars_100g, proteins_100g, salt_100g, energy_100g, reconstructed_energy, g_sum, exceeded, product\n",
      "Expected: _c0 but found: \n",
      "CSV file: file:///home/yagor/Рабочий%20стол/mipt/lab3/notebook/nutrition_table.csv\n",
      "+---+--------+------------------+-----------+-------------+---------+-----------+--------------------+-----------------+--------+--------------------+\n",
      "|_c0|fat_100g|carbohydrates_100g|sugars_100g|proteins_100g|salt_100g|energy_100g|reconstructed_energy|            g_sum|exceeded|             product|\n",
      "+---+--------+------------------+-----------+-------------+---------+-----------+--------------------+-----------------+--------+--------------------+\n",
      "|  1|   28.57|             64.29|      14.29|         3.57|      0.0|     2243.0|             2267.85|            96.43|       0|Banana Chips Swee...|\n",
      "|  2|   17.86|             60.71|      17.86|        17.86|    0.635|     1941.0|             2032.23|96.42999999999999|       0|             Peanuts|\n",
      "|  3|   57.14|             17.86|       3.57|        17.86|  1.22428|     2540.0|              2835.7|            92.86|       0|Organic Salted Nu...|\n",
      "|  7|   18.75|             57.81|      15.62|        14.06|   0.1397|     1833.0|             1953.04|            90.62|       0|      Organic Muesli|\n",
      "| 12|   36.67|             36.67|       3.33|        16.67|  1.60782|     2230.0|             2336.91|            90.01|       0|       Zen Party Mix|\n",
      "| 15|   18.18|              60.0|      21.82|        14.55|  0.02286|     1824.0|             1976.37|            92.73|       0|Cinnamon Nut Granola|\n",
      "| 16|   60.71|             17.86|       3.57|        14.29|  0.01016|     2632.0|             2914.24|92.85999999999999|       0|   Organic Hazelnuts|\n",
      "| 19|    5.95|             66.67|       2.38|        16.67|   0.0254|     1096.0|  1648.8300000000002|            89.29|       0|  Organic Oat Groats|\n",
      "| 20|    17.5|              42.5|       32.5|          7.5|  0.28448|     1464.0|              1532.5|             67.5|       0|    Energy Power Mix|\n",
      "| 21|   33.33|             46.67|       30.0|        13.33|  0.46482|     2092.0|             2319.87|            93.33|       0|Antioxidant Mix -...|\n",
      "| 22|   10.91|             69.09|      27.27|        10.91|  0.02286|     1674.0|             1785.49|            90.91|       0|Organic Quinoa Co...|\n",
      "| 23|    50.0|             23.33|       6.67|         6.67|     1.27|     2372.0|              2460.0|             80.0|       0|Fire Roasted Hatc...|\n",
      "| 24|    20.0|              60.0|      33.33|         8.89|  0.19812|     1954.0|             1951.13|            88.89|       0|Peanut Butter Pow...|\n",
      "| 26|   22.22|             57.41|       5.56|        12.96|  0.28194|     1548.0|             2062.87|            92.59|       0|Organic Unswt Ber...|\n",
      "| 27|   46.67|              30.0|       6.67|        16.67|    1.016|     2372.0|             2613.52|            93.34|       0|Roasted Salted Bl...|\n",
      "| 28|   43.33|              30.0|       6.67|        16.67|  1.35382|     2372.0|  2483.2599999999998|             90.0|       0|Thai Curry Roaste...|\n",
      "| 29|   46.67|             23.33|       3.33|         20.0|    2.032|     2230.0|  2556.7400000000002|             90.0|       0|Wasabi Tamari Alm...|\n",
      "| 31|    6.67|             64.44|      11.11|        13.33|  0.01016|     1490.0|  1582.2200000000003|            84.44|       0|  Organic Red Quinoa|\n",
      "| 32|    35.0|              52.5|       37.5|          5.0|    0.127|     2092.0|              2342.5|             92.5|       0|Dark Chocolate Co...|\n",
      "| 34|   21.57|             58.82|       3.92|        11.76|  0.27432|     1887.0|  2041.0900000000001|            92.15|       0|Organic Unsweeten...|\n",
      "+---+--------+------------------+-----------+-------------+---------+-----------+--------------------+-----------------+--------+--------------------+\n",
      "only showing top 20 rows\n",
      "\n"
     ]
    }
   ],
   "source": [
    "dataset.show()"
   ]
  },
  {
   "cell_type": "code",
   "execution_count": 61,
   "metadata": {},
   "outputs": [],
   "source": [
    "from pyspark.ml.linalg import Vectors\n",
    "from pyspark.ml.feature import VectorAssembler"
   ]
  },
  {
   "cell_type": "code",
   "execution_count": 62,
   "metadata": {},
   "outputs": [],
   "source": [
    "feat_cols = [ #'_c0',\n",
    " 'fat_100g',\n",
    " 'carbohydrates_100g',\n",
    " 'sugars_100g',\n",
    " 'proteins_100g',\n",
    " 'salt_100g',\n",
    " 'energy_100g',\n",
    " 'reconstructed_energy',\n",
    " 'g_sum',\n",
    " 'exceeded',\n",
    " #'product'\n",
    " ]"
   ]
  },
  {
   "cell_type": "code",
   "execution_count": 63,
   "metadata": {},
   "outputs": [],
   "source": [
    "vec_assembler = VectorAssembler(inputCols = feat_cols, outputCol='features')"
   ]
  },
  {
   "cell_type": "code",
   "execution_count": 64,
   "metadata": {},
   "outputs": [],
   "source": [
    "final_data = vec_assembler.transform(dataset)"
   ]
  },
  {
   "cell_type": "code",
   "execution_count": 65,
   "metadata": {},
   "outputs": [
    {
     "name": "stdout",
     "output_type": "stream",
     "text": [
      "23/01/01 17:32:12 WARN CSVHeaderChecker: CSV header does not conform to the schema.\n",
      " Header: , fat_100g, carbohydrates_100g, sugars_100g, proteins_100g, salt_100g, energy_100g, reconstructed_energy, g_sum, exceeded, product\n",
      " Schema: _c0, fat_100g, carbohydrates_100g, sugars_100g, proteins_100g, salt_100g, energy_100g, reconstructed_energy, g_sum, exceeded, product\n",
      "Expected: _c0 but found: \n",
      "CSV file: file:///home/yagor/Рабочий%20стол/mipt/lab3/notebook/nutrition_table.csv\n",
      "+---+--------+------------------+-----------+-------------+---------+-----------+--------------------+-----------------+--------+--------------------+--------------------+\n",
      "|_c0|fat_100g|carbohydrates_100g|sugars_100g|proteins_100g|salt_100g|energy_100g|reconstructed_energy|            g_sum|exceeded|             product|            features|\n",
      "+---+--------+------------------+-----------+-------------+---------+-----------+--------------------+-----------------+--------+--------------------+--------------------+\n",
      "|  1|   28.57|             64.29|      14.29|         3.57|      0.0|     2243.0|             2267.85|            96.43|       0|Banana Chips Swee...|[28.57,64.29,14.2...|\n",
      "|  2|   17.86|             60.71|      17.86|        17.86|    0.635|     1941.0|             2032.23|96.42999999999999|       0|             Peanuts|[17.86,60.71,17.8...|\n",
      "|  3|   57.14|             17.86|       3.57|        17.86|  1.22428|     2540.0|              2835.7|            92.86|       0|Organic Salted Nu...|[57.14,17.86,3.57...|\n",
      "|  7|   18.75|             57.81|      15.62|        14.06|   0.1397|     1833.0|             1953.04|            90.62|       0|      Organic Muesli|[18.75,57.81,15.6...|\n",
      "| 12|   36.67|             36.67|       3.33|        16.67|  1.60782|     2230.0|             2336.91|            90.01|       0|       Zen Party Mix|[36.67,36.67,3.33...|\n",
      "| 15|   18.18|              60.0|      21.82|        14.55|  0.02286|     1824.0|             1976.37|            92.73|       0|Cinnamon Nut Granola|[18.18,60.0,21.82...|\n",
      "| 16|   60.71|             17.86|       3.57|        14.29|  0.01016|     2632.0|             2914.24|92.85999999999999|       0|   Organic Hazelnuts|[60.71,17.86,3.57...|\n",
      "| 19|    5.95|             66.67|       2.38|        16.67|   0.0254|     1096.0|  1648.8300000000002|            89.29|       0|  Organic Oat Groats|[5.95,66.67,2.38,...|\n",
      "| 20|    17.5|              42.5|       32.5|          7.5|  0.28448|     1464.0|              1532.5|             67.5|       0|    Energy Power Mix|[17.5,42.5,32.5,7...|\n",
      "| 21|   33.33|             46.67|       30.0|        13.33|  0.46482|     2092.0|             2319.87|            93.33|       0|Antioxidant Mix -...|[33.33,46.67,30.0...|\n",
      "| 22|   10.91|             69.09|      27.27|        10.91|  0.02286|     1674.0|             1785.49|            90.91|       0|Organic Quinoa Co...|[10.91,69.09,27.2...|\n",
      "| 23|    50.0|             23.33|       6.67|         6.67|     1.27|     2372.0|              2460.0|             80.0|       0|Fire Roasted Hatc...|[50.0,23.33,6.67,...|\n",
      "| 24|    20.0|              60.0|      33.33|         8.89|  0.19812|     1954.0|             1951.13|            88.89|       0|Peanut Butter Pow...|[20.0,60.0,33.33,...|\n",
      "| 26|   22.22|             57.41|       5.56|        12.96|  0.28194|     1548.0|             2062.87|            92.59|       0|Organic Unswt Ber...|[22.22,57.41,5.56...|\n",
      "| 27|   46.67|              30.0|       6.67|        16.67|    1.016|     2372.0|             2613.52|            93.34|       0|Roasted Salted Bl...|[46.67,30.0,6.67,...|\n",
      "| 28|   43.33|              30.0|       6.67|        16.67|  1.35382|     2372.0|  2483.2599999999998|             90.0|       0|Thai Curry Roaste...|[43.33,30.0,6.67,...|\n",
      "| 29|   46.67|             23.33|       3.33|         20.0|    2.032|     2230.0|  2556.7400000000002|             90.0|       0|Wasabi Tamari Alm...|[46.67,23.33,3.33...|\n",
      "| 31|    6.67|             64.44|      11.11|        13.33|  0.01016|     1490.0|  1582.2200000000003|            84.44|       0|  Organic Red Quinoa|[6.67,64.44,11.11...|\n",
      "| 32|    35.0|              52.5|       37.5|          5.0|    0.127|     2092.0|              2342.5|             92.5|       0|Dark Chocolate Co...|[35.0,52.5,37.5,5...|\n",
      "| 34|   21.57|             58.82|       3.92|        11.76|  0.27432|     1887.0|  2041.0900000000001|            92.15|       0|Organic Unsweeten...|[21.57,58.82,3.92...|\n",
      "+---+--------+------------------+-----------+-------------+---------+-----------+--------------------+-----------------+--------+--------------------+--------------------+\n",
      "only showing top 20 rows\n",
      "\n"
     ]
    }
   ],
   "source": [
    "final_data.show()"
   ]
  },
  {
   "cell_type": "code",
   "execution_count": 66,
   "metadata": {},
   "outputs": [],
   "source": [
    "from pyspark.ml.feature import StandardScaler"
   ]
  },
  {
   "cell_type": "code",
   "execution_count": 67,
   "metadata": {},
   "outputs": [],
   "source": [
    "scaler = StandardScaler(inputCol=\"features\", outputCol=\"scaledFeatures\", withStd=True, withMean=False)"
   ]
  },
  {
   "cell_type": "code",
   "execution_count": 68,
   "metadata": {},
   "outputs": [
    {
     "data": {
      "text/plain": [
       "DataFrame[_c0: int, fat_100g: double, carbohydrates_100g: double, sugars_100g: double, proteins_100g: double, salt_100g: double, energy_100g: double, reconstructed_energy: double, g_sum: double, exceeded: int, product: string, features: vector]"
      ]
     },
     "execution_count": 68,
     "metadata": {},
     "output_type": "execute_result"
    }
   ],
   "source": [
    "final_data"
   ]
  },
  {
   "cell_type": "code",
   "execution_count": 69,
   "metadata": {},
   "outputs": [],
   "source": [
    "# Compute summary statistics by fitting the StandardScaler\n",
    "scalerModel = scaler.fit(final_data)"
   ]
  },
  {
   "cell_type": "code",
   "execution_count": 70,
   "metadata": {},
   "outputs": [],
   "source": [
    "# Normalize each feature to have unit standard deviation.\n",
    "cluster_final_data = scalerModel.transform(final_data)"
   ]
  },
  {
   "cell_type": "markdown",
   "metadata": {},
   "source": [
    "## train model"
   ]
  },
  {
   "cell_type": "code",
   "execution_count": 71,
   "metadata": {},
   "outputs": [],
   "source": [
    "from pyspark.ml.clustering import KMeans\n",
    "from pyspark.ml.evaluation import ClusteringEvaluator"
   ]
  },
  {
   "cell_type": "code",
   "execution_count": 72,
   "metadata": {},
   "outputs": [],
   "source": [
    "# for k in range(2,15):\n",
    "#     kmeans = KMeans(featuresCol='scaledFeatures',k=k)\n",
    "#     model = kmeans.fit(cluster_final_data)\n",
    "#     predictions = model.transform(cluster_final_data)\n",
    "#     evaluator = ClusteringEvaluator()\n",
    "#     silhouette = evaluator.evaluate(predictions)\n",
    "#     print(\"With K={}\".format(k))\n",
    "#     print(\"Silhouette with squared euclidean distance = \" + str(silhouette))\n",
    "#     print('--'*30)"
   ]
  },
  {
   "cell_type": "code",
   "execution_count": 93,
   "metadata": {},
   "outputs": [],
   "source": [
    "k = 5\n",
    "\n",
    "kmeans = KMeans(featuresCol='scaledFeatures', predictionCol='pred_kmeans_cluster', k=k)"
   ]
  },
  {
   "cell_type": "code",
   "execution_count": 94,
   "metadata": {},
   "outputs": [],
   "source": [
    "modelKMeans = kmeans.fit(cluster_final_data)"
   ]
  },
  {
   "cell_type": "code",
   "execution_count": 95,
   "metadata": {},
   "outputs": [],
   "source": [
    "predictions = modelKMeans.transform(cluster_final_data)"
   ]
  },
  {
   "cell_type": "markdown",
   "metadata": {},
   "source": [
    "## 2. Split on train and test and analys"
   ]
  },
  {
   "cell_type": "code",
   "execution_count": 96,
   "metadata": {},
   "outputs": [
    {
     "name": "stdout",
     "output_type": "stream",
     "text": [
      "23/01/01 17:32:47 WARN CSVHeaderChecker: CSV header does not conform to the schema.\n",
      " Header: , fat_100g, carbohydrates_100g, sugars_100g, proteins_100g, salt_100g, energy_100g, reconstructed_energy, g_sum, exceeded, product\n",
      " Schema: _c0, fat_100g, carbohydrates_100g, sugars_100g, proteins_100g, salt_100g, energy_100g, reconstructed_energy, g_sum, exceeded, product\n",
      "Expected: _c0 but found: \n",
      "CSV file: file:///home/yagor/Рабочий%20стол/mipt/lab3/notebook/nutrition_table.csv\n",
      "+---+--------+------------------+-----------+-------------+---------+-----------+--------------------+-----------------+--------+--------------------+--------------------+--------------------+-------------------+\n",
      "|_c0|fat_100g|carbohydrates_100g|sugars_100g|proteins_100g|salt_100g|energy_100g|reconstructed_energy|            g_sum|exceeded|             product|            features|      scaledFeatures|pred_kmeans_cluster|\n",
      "+---+--------+------------------+-----------+-------------+---------+-----------+--------------------+-----------------+--------+--------------------+--------------------+--------------------+-------------------+\n",
      "|  1|   28.57|             64.29|      14.29|         3.57|      0.0|     2243.0|             2267.85|            96.43|       0|Banana Chips Swee...|[28.57,64.29,14.2...|[1.91358558312757...|                  4|\n",
      "|  2|   17.86|             60.71|      17.86|        17.86|    0.635|     1941.0|             2032.23|96.42999999999999|       0|             Peanuts|[17.86,60.71,17.8...|[1.19624216012105...|                  4|\n",
      "|  3|   57.14|             17.86|       3.57|        17.86|  1.22428|     2540.0|              2835.7|            92.86|       0|Organic Salted Nu...|[57.14,17.86,3.57...|[3.82717116625514...|                  3|\n",
      "|  7|   18.75|             57.81|      15.62|        14.06|   0.1397|     1833.0|             1953.04|            90.62|       0|      Organic Muesli|[18.75,57.81,15.6...|[1.25585333159404...|                  4|\n",
      "| 12|   36.67|             36.67|       3.33|        16.67|  1.60782|     2230.0|             2336.91|            90.01|       0|       Zen Party Mix|[36.67,36.67,3.33...|[2.4561142223762,...|                  3|\n",
      "| 15|   18.18|              60.0|      21.82|        14.55|  0.02286|     1824.0|             1976.37|            92.73|       0|Cinnamon Nut Granola|[18.18,60.0,21.82...|[1.21767539031358...|                  4|\n",
      "| 16|   60.71|             17.86|       3.57|        14.29|  0.01016|     2632.0|             2914.24|92.85999999999999|       0|   Organic Hazelnuts|[60.71,17.86,3.57...|[4.06628564059064...|                  3|\n",
      "| 19|    5.95|             66.67|       2.38|        16.67|   0.0254|     1096.0|  1648.8300000000002|            89.29|       0|  Organic Oat Groats|[5.95,66.67,2.38,...|[0.39852412389251...|                  2|\n",
      "| 20|    17.5|              42.5|       32.5|          7.5|  0.28448|     1464.0|              1532.5|             67.5|       0|    Energy Power Mix|[17.5,42.5,32.5,7...|[1.17212977615444...|                  0|\n",
      "| 21|   33.33|             46.67|       30.0|        13.33|  0.46482|     2092.0|             2319.87|            93.33|       0|Antioxidant Mix -...|[33.33,46.67,30.0...|[2.23240488224158...|                  4|\n",
      "| 22|   10.91|             69.09|      27.27|        10.91|  0.02286|     1674.0|             1785.49|            90.91|       0|Organic Quinoa Co...|[10.91,69.09,27.2...|[0.73073919187685...|                  0|\n",
      "| 23|    50.0|             23.33|       6.67|         6.67|     1.27|     2372.0|              2460.0|             80.0|       0|Fire Roasted Hatc...|[50.0,23.33,6.67,...|[3.34894221758412...|                  3|\n",
      "| 24|    20.0|              60.0|      33.33|         8.89|  0.19812|     1954.0|             1951.13|            88.89|       0|Peanut Butter Pow...|[20.0,60.0,33.33,...|[1.33957688703365...|                  4|\n",
      "| 26|   22.22|             57.41|       5.56|        12.96|  0.28194|     1548.0|             2062.87|            92.59|       0|Organic Unswt Ber...|[22.22,57.41,5.56...|[1.48826992149438...|                  4|\n",
      "| 27|   46.67|              30.0|       6.67|        16.67|    1.016|     2372.0|             2613.52|            93.34|       0|Roasted Salted Bl...|[46.67,30.0,6.67,...|[3.12590266589302...|                  3|\n",
      "| 28|   43.33|              30.0|       6.67|        16.67|  1.35382|     2372.0|  2483.2599999999998|             90.0|       0|Thai Curry Roaste...|[43.33,30.0,6.67,...|[2.90219332575840...|                  3|\n",
      "| 29|   46.67|             23.33|       3.33|         20.0|    2.032|     2230.0|  2556.7400000000002|             90.0|       0|Wasabi Tamari Alm...|[46.67,23.33,3.33...|[3.12590266589302...|                  3|\n",
      "| 31|    6.67|             64.44|      11.11|        13.33|  0.01016|     1490.0|  1582.2200000000003|            84.44|       0|  Organic Red Quinoa|[6.67,64.44,11.11...|[0.44674889182572...|                  0|\n",
      "| 32|    35.0|              52.5|       37.5|          5.0|    0.127|     2092.0|              2342.5|             92.5|       0|Dark Chocolate Co...|[35.0,52.5,37.5,5...|[2.34425955230889...|                  4|\n",
      "| 34|   21.57|             58.82|       3.92|        11.76|  0.27432|     1887.0|  2041.0900000000001|            92.15|       0|Organic Unsweeten...|[21.57,58.82,3.92...|[1.44473367266579...|                  4|\n",
      "+---+--------+------------------+-----------+-------------+---------+-----------+--------------------+-----------------+--------+--------------------+--------------------+--------------------+-------------------+\n",
      "only showing top 20 rows\n",
      "\n"
     ]
    }
   ],
   "source": [
    "predictions.show()"
   ]
  },
  {
   "cell_type": "code",
   "execution_count": 97,
   "metadata": {},
   "outputs": [],
   "source": [
    "evaluator = ClusteringEvaluator(predictionCol='pred_kmeans_cluster')"
   ]
  },
  {
   "cell_type": "code",
   "execution_count": 98,
   "metadata": {},
   "outputs": [],
   "source": [
    "silhouette = evaluator.evaluate(predictions)"
   ]
  },
  {
   "cell_type": "code",
   "execution_count": 99,
   "metadata": {},
   "outputs": [
    {
     "name": "stdout",
     "output_type": "stream",
     "text": [
      "With k=5 Silhouette with squared euclidean distance = 0.4557467408039474\n"
     ]
    }
   ],
   "source": [
    "print(f\"With k={k} Silhouette with squared euclidean distance = \" + str(silhouette))"
   ]
  },
  {
   "cell_type": "code",
   "execution_count": 100,
   "metadata": {},
   "outputs": [
    {
     "name": "stdout",
     "output_type": "stream",
     "text": [
      "Cluster Centers:\n",
      "[0.29048637 2.53813625 1.77256495 0.61769196 0.10027311 1.96002328\n",
      " 1.92998784 2.47449235 0.        ]\n",
      "[0.11924658 0.40544206 0.34112048 0.27188833 0.10217509 0.42143614\n",
      " 0.39140018 0.46758935 0.        ]\n",
      "[1.00763071 0.6949448  0.22435894 1.83172412 0.15928124 1.507693\n",
      " 1.4944646  1.47197809 0.        ]\n",
      "[3.45288991 0.55140649 0.19940754 2.34815383 0.14523594 3.21660235\n",
      " 3.28997534 2.53990678 0.05101977]\n",
      "[1.8627923  1.94825912 1.17971266 0.83966936 0.10007308 2.7497747\n",
      " 2.74990873 2.7036021  0.7327873 ]\n"
     ]
    }
   ],
   "source": [
    "centers=modelKMeans.clusterCenters()\n",
    "print(\"Cluster Centers:\")\n",
    "for center in centers:\n",
    "    print(center)"
   ]
  },
  {
   "cell_type": "code",
   "execution_count": 101,
   "metadata": {},
   "outputs": [
    {
     "name": "stdout",
     "output_type": "stream",
     "text": [
      "+-------------------+-----+\n",
      "|pred_kmeans_cluster|count|\n",
      "+-------------------+-----+\n",
      "|                  1|17941|\n",
      "|                  3| 2315|\n",
      "|                  4| 5617|\n",
      "|                  2| 8807|\n",
      "|                  0|10348|\n",
      "+-------------------+-----+\n",
      "\n"
     ]
    }
   ],
   "source": [
    "modelKMeans.transform(cluster_final_data).groupBy('pred_kmeans_cluster').count().show()"
   ]
  },
  {
   "cell_type": "code",
   "execution_count": 102,
   "metadata": {},
   "outputs": [],
   "source": [
    "cols = [\"_c0\", \"pred_kmeans_cluster\"]\n",
    "result = predictions.select(*cols)"
   ]
  },
  {
   "cell_type": "code",
   "execution_count": 103,
   "metadata": {},
   "outputs": [
    {
     "name": "stdout",
     "output_type": "stream",
     "text": [
      "23/01/01 17:32:58 WARN CSVHeaderChecker: CSV header does not conform to the schema.\n",
      " Header: , fat_100g, carbohydrates_100g, sugars_100g, proteins_100g, salt_100g, energy_100g, reconstructed_energy, g_sum, exceeded\n",
      " Schema: _c0, fat_100g, carbohydrates_100g, sugars_100g, proteins_100g, salt_100g, energy_100g, reconstructed_energy, g_sum, exceeded\n",
      "Expected: _c0 but found: \n",
      "CSV file: file:///home/yagor/Рабочий%20стол/mipt/lab3/notebook/nutrition_table.csv\n",
      "+---+-------------------+\n",
      "|_c0|pred_kmeans_cluster|\n",
      "+---+-------------------+\n",
      "|  1|                  4|\n",
      "|  2|                  4|\n",
      "|  3|                  3|\n",
      "|  7|                  4|\n",
      "| 12|                  3|\n",
      "| 15|                  4|\n",
      "| 16|                  3|\n",
      "| 19|                  2|\n",
      "| 20|                  0|\n",
      "| 21|                  4|\n",
      "| 22|                  0|\n",
      "| 23|                  3|\n",
      "| 24|                  4|\n",
      "| 26|                  4|\n",
      "| 27|                  3|\n",
      "| 28|                  3|\n",
      "| 29|                  3|\n",
      "| 31|                  0|\n",
      "| 32|                  4|\n",
      "| 34|                  4|\n",
      "+---+-------------------+\n",
      "only showing top 20 rows\n",
      "\n"
     ]
    }
   ],
   "source": [
    "result.show()"
   ]
  },
  {
   "cell_type": "code",
   "execution_count": 109,
   "metadata": {},
   "outputs": [],
   "source": [
    "(trainingData, testData) = predictions.randomSplit([0.7, 0.3])"
   ]
  },
  {
   "cell_type": "code",
   "execution_count": 117,
   "metadata": {},
   "outputs": [
    {
     "name": "stdout",
     "output_type": "stream",
     "text": [
      "23/01/01 18:12:46 WARN CSVHeaderChecker: CSV header does not conform to the schema.\n",
      " Header: , fat_100g, carbohydrates_100g, sugars_100g, proteins_100g, salt_100g, energy_100g, reconstructed_energy, g_sum, exceeded, product\n",
      " Schema: _c0, fat_100g, carbohydrates_100g, sugars_100g, proteins_100g, salt_100g, energy_100g, reconstructed_energy, g_sum, exceeded, product\n",
      "Expected: _c0 but found: \n",
      "CSV file: file:///home/yagor/Рабочий%20стол/mipt/lab3/notebook/nutrition_table.csv\n"
     ]
    },
    {
     "data": {
      "text/plain": [
       "13611"
      ]
     },
     "execution_count": 117,
     "metadata": {},
     "output_type": "execute_result"
    }
   ],
   "source": [
    "testData.count()"
   ]
  },
  {
   "cell_type": "code",
   "execution_count": 110,
   "metadata": {},
   "outputs": [
    {
     "name": "stdout",
     "output_type": "stream",
     "text": [
      "23/01/01 18:10:24 WARN CSVHeaderChecker: CSV header does not conform to the schema.\n",
      " Header: , fat_100g, carbohydrates_100g, sugars_100g, proteins_100g, salt_100g, energy_100g, reconstructed_energy, g_sum, exceeded, product\n",
      " Schema: _c0, fat_100g, carbohydrates_100g, sugars_100g, proteins_100g, salt_100g, energy_100g, reconstructed_energy, g_sum, exceeded, product\n",
      "Expected: _c0 but found: \n",
      "CSV file: file:///home/yagor/Рабочий%20стол/mipt/lab3/notebook/nutrition_table.csv\n"
     ]
    },
    {
     "data": {
      "text/plain": [
       "31417"
      ]
     },
     "execution_count": 110,
     "metadata": {},
     "output_type": "execute_result"
    }
   ],
   "source": [
    "trainingData.count()"
   ]
  },
  {
   "cell_type": "markdown",
   "metadata": {},
   "source": [
    "## 3. Classification model"
   ]
  },
  {
   "cell_type": "code",
   "execution_count": 130,
   "metadata": {},
   "outputs": [],
   "source": [
    "from pyspark.ml.classification import MultilayerPerceptronClassifier, RandomForestClassifier, LogisticRegression\n",
    "from pyspark.ml.regression import LinearRegression\n",
    "from pyspark.ml.evaluation import MulticlassClassificationEvaluator\n",
    "from sklearn.metrics import classification_report, confusion_matrix\n",
    "import numpy as np"
   ]
  },
  {
   "cell_type": "code",
   "execution_count": 114,
   "metadata": {},
   "outputs": [],
   "source": [
    "RandomForest = RandomForestClassifier(labelCol=\"pred_kmeans_cluster\", featuresCol=\"scaledFeatures\", predictionCol='pred_from_randomforest_class', numTrees=20, maxDepth=3)\n"
   ]
  },
  {
   "cell_type": "code",
   "execution_count": 115,
   "metadata": {},
   "outputs": [
    {
     "name": "stdout",
     "output_type": "stream",
     "text": [
      "23/01/01 18:11:46 WARN CSVHeaderChecker: CSV header does not conform to the schema.\n",
      " Header: , fat_100g, carbohydrates_100g, sugars_100g, proteins_100g, salt_100g, energy_100g, reconstructed_energy, g_sum, exceeded, product\n",
      " Schema: _c0, fat_100g, carbohydrates_100g, sugars_100g, proteins_100g, salt_100g, energy_100g, reconstructed_energy, g_sum, exceeded, product\n",
      "Expected: _c0 but found: \n",
      "CSV file: file:///home/yagor/Рабочий%20стол/mipt/lab3/notebook/nutrition_table.csv\n",
      "23/01/01 18:11:47 WARN CSVHeaderChecker: CSV header does not conform to the schema.\n",
      " Header: , fat_100g, carbohydrates_100g, sugars_100g, proteins_100g, salt_100g, energy_100g, reconstructed_energy, g_sum, exceeded, product\n",
      " Schema: _c0, fat_100g, carbohydrates_100g, sugars_100g, proteins_100g, salt_100g, energy_100g, reconstructed_energy, g_sum, exceeded, product\n",
      "Expected: _c0 but found: \n",
      "CSV file: file:///home/yagor/Рабочий%20стол/mipt/lab3/notebook/nutrition_table.csv\n",
      "23/01/01 18:11:47 WARN CSVHeaderChecker: CSV header does not conform to the schema.\n",
      " Header: , fat_100g, carbohydrates_100g, sugars_100g, proteins_100g, salt_100g, energy_100g, reconstructed_energy, g_sum, exceeded, product\n",
      " Schema: _c0, fat_100g, carbohydrates_100g, sugars_100g, proteins_100g, salt_100g, energy_100g, reconstructed_energy, g_sum, exceeded, product\n",
      "Expected: _c0 but found: \n",
      "CSV file: file:///home/yagor/Рабочий%20стол/mipt/lab3/notebook/nutrition_table.csv\n",
      "23/01/01 18:11:47 WARN CSVHeaderChecker: CSV header does not conform to the schema.\n",
      " Header: , fat_100g, carbohydrates_100g, sugars_100g, proteins_100g, salt_100g, energy_100g, reconstructed_energy, g_sum, exceeded, product\n",
      " Schema: _c0, fat_100g, carbohydrates_100g, sugars_100g, proteins_100g, salt_100g, energy_100g, reconstructed_energy, g_sum, exceeded, product\n",
      "Expected: _c0 but found: \n",
      "CSV file: file:///home/yagor/Рабочий%20стол/mipt/lab3/notebook/nutrition_table.csv\n"
     ]
    }
   ],
   "source": [
    "modelRandomForest = RandomForest.fit(trainingData)"
   ]
  },
  {
   "cell_type": "code",
   "execution_count": 136,
   "metadata": {},
   "outputs": [],
   "source": [
    "# Make predictions.\n",
    "predictions_rf = modelRandomForest.transform(testData)"
   ]
  },
  {
   "cell_type": "code",
   "execution_count": 137,
   "metadata": {},
   "outputs": [
    {
     "name": "stdout",
     "output_type": "stream",
     "text": [
      "23/01/01 21:19:37 WARN CSVHeaderChecker: CSV header does not conform to the schema.\n",
      " Header: , fat_100g, carbohydrates_100g, sugars_100g, proteins_100g, salt_100g, energy_100g, reconstructed_energy, g_sum, exceeded, product\n",
      " Schema: _c0, fat_100g, carbohydrates_100g, sugars_100g, proteins_100g, salt_100g, energy_100g, reconstructed_energy, g_sum, exceeded, product\n",
      "Expected: _c0 but found: \n",
      "CSV file: file:///home/yagor/Рабочий%20стол/mipt/lab3/notebook/nutrition_table.csv\n",
      "+----------------------------+-------------------+--------------------+\n",
      "|pred_from_randomforest_class|pred_kmeans_cluster|      scaledFeatures|\n",
      "+----------------------------+-------------------+--------------------+\n",
      "|                         4.0|                  4|[1.19624216012105...|\n",
      "|                         4.0|                  4|[1.25585333159404...|\n",
      "|                         3.0|                  3|[2.4561142223762,...|\n",
      "|                         0.0|                  2|[0.39852412389251...|\n",
      "|                         2.0|                  0|[1.17212977615444...|\n",
      "+----------------------------+-------------------+--------------------+\n",
      "only showing top 5 rows\n",
      "\n",
      "23/01/01 21:19:37 WARN CSVHeaderChecker: CSV header does not conform to the schema.\n",
      " Header: , fat_100g, carbohydrates_100g, sugars_100g, proteins_100g, salt_100g, energy_100g, reconstructed_energy, g_sum, exceeded, product\n",
      " Schema: _c0, fat_100g, carbohydrates_100g, sugars_100g, proteins_100g, salt_100g, energy_100g, reconstructed_energy, g_sum, exceeded, product\n",
      "Expected: _c0 but found: \n",
      "CSV file: file:///home/yagor/Рабочий%20стол/mipt/lab3/notebook/nutrition_table.csv\n",
      "Test Error = 0.0735435\n"
     ]
    }
   ],
   "source": [
    "\n",
    "# Select example rows to display.\n",
    "predictions_rf.select(\"pred_from_randomforest_class\", \"pred_kmeans_cluster\", \"scaledFeatures\").show(5)\n",
    "\n",
    "# Select (prediction, true label) and compute test error\n",
    "evaluator = MulticlassClassificationEvaluator(\n",
    "    labelCol=\"pred_kmeans_cluster\", predictionCol=\"pred_from_randomforest_class\", metricName=\"accuracy\")\n",
    "accuracy = evaluator.evaluate(predictions_rf)\n",
    "print(\"Test Error = %g\" % (1.0 - accuracy))"
   ]
  },
  {
   "cell_type": "markdown",
   "metadata": {},
   "source": [
    "## 4. Linear regression model"
   ]
  },
  {
   "cell_type": "code",
   "execution_count": 134,
   "metadata": {},
   "outputs": [
    {
     "name": "stdout",
     "output_type": "stream",
     "text": [
      "23/01/01 21:18:20 WARN CSVHeaderChecker: CSV header does not conform to the schema.\n",
      " Header: , fat_100g, carbohydrates_100g, sugars_100g, proteins_100g, salt_100g, energy_100g, reconstructed_energy, g_sum, exceeded, product\n",
      " Schema: _c0, fat_100g, carbohydrates_100g, sugars_100g, proteins_100g, salt_100g, energy_100g, reconstructed_energy, g_sum, exceeded, product\n",
      "Expected: _c0 but found: \n",
      "CSV file: file:///home/yagor/Рабочий%20стол/mipt/lab3/notebook/nutrition_table.csv\n",
      "23/01/01 21:18:20 WARN CSVHeaderChecker: CSV header does not conform to the schema.\n",
      " Header: , fat_100g, carbohydrates_100g, sugars_100g, proteins_100g, salt_100g, energy_100g, reconstructed_energy, g_sum, exceeded, product\n",
      " Schema: _c0, fat_100g, carbohydrates_100g, sugars_100g, proteins_100g, salt_100g, energy_100g, reconstructed_energy, g_sum, exceeded, product\n",
      "Expected: _c0 but found: \n",
      "CSV file: file:///home/yagor/Рабочий%20стол/mipt/lab3/notebook/nutrition_table.csv\n",
      "Coefficients: [0.5820088256423173,0.0,0.0,0.0,0.0,0.0,0.0,0.0,0.0]\n",
      "Intercept: 1.0094364068026673\n"
     ]
    }
   ],
   "source": [
    "LinRegression = LinearRegression(maxIter=10, regParam=0.3, elasticNetParam=0.8, labelCol=\"pred_from_randomforest_class\", featuresCol=\"scaledFeatures\")\n",
    "\n",
    "# Fit the model\n",
    "modelLinearRegression = LinRegression.fit(predictions)\n",
    "\n",
    "# Print the coefficients and intercept for linear regression\n",
    "print(\"Coefficients: %s\" % str(modelLinearRegression.coefficients))\n",
    "print(\"Intercept: %s\" % str(modelLinearRegression.intercept))"
   ]
  },
  {
   "cell_type": "code",
   "execution_count": null,
   "metadata": {},
   "outputs": [],
   "source": []
  },
  {
   "cell_type": "code",
   "execution_count": null,
   "metadata": {},
   "outputs": [],
   "source": [
    "lr = LinearRegression(maxIter=10, regParam=0.3, elasticNetParam=0.8)\n",
    "\n",
    "# Fit the model\n",
    "lrModel = lr.fit(training)\n",
    "\n",
    "# Print the coefficients and intercept for linear regression\n",
    "print(\"Coefficients: %s\" % str(lrModel.coefficients))\n",
    "print(\"Intercept: %s\" % str(lrModel.intercept))"
   ]
  },
  {
   "cell_type": "code",
   "execution_count": 62,
   "metadata": {},
   "outputs": [],
   "source": [
    "lr = LogisticRegression(maxIter=10, tol=1E-6, fitIntercept=True, labelCol=\"prediction\", featuresCol=\"scaledFeatures\", probabilityCol=\"lr_prob\")"
   ]
  },
  {
   "cell_type": "code",
   "execution_count": null,
   "metadata": {},
   "outputs": [],
   "source": [
    "pipeline = Pipeline(stages=[assemble, scale, KMeans_algo, rf, column_dropper, lr])\n",
    "\n",
    "# Fit the pipeline to training documents.\n",
    "model = pipeline.fit(cluster_final_data)\n",
    "output = model.transform(cluster_final_data)\n",
    "\n",
    "# Evaluate clustering by computing Silhouette score\n",
    "clust_evaluator = ClusteringEvaluator(predictionCol='clust_preds', featuresCol='standardized', \\\n",
    "                                metricName='silhouette', distanceMeasure='squaredEuclidean')\n",
    "\n",
    "# Select (prediction, true label) and compute test error\n",
    "class_evaluator = MulticlassClassificationEvaluator(labelCol=\"clust_preds\", predictionCol=\"class_preds\", metricName=\"accuracy\")\n",
    "accuracy = class_evaluator.evaluate(output)\n",
    "y_true = np.array(output.select(\"clust_preds\").collect())\n",
    "y_pred = np.array(output.select(\"class_preds\").collect())"
   ]
  },
  {
   "cell_type": "code",
   "execution_count": null,
   "metadata": {},
   "outputs": [],
   "source": [
    "model.layers\n",
    "[2, 5, 2]\n",
    "model.weights.size\n",
    "27\n",
    "testDF = sqlContext.createDataFrame([\n",
    "(Vectors.dense([1.0, 0.0]),),\n",
    "  (Vectors.dense([0.0, 0.0]),)], [\"features\"])\n",
    "model.transform(testDF).show()"
   ]
  }
 ],
 "metadata": {
  "kernelspec": {
   "display_name": "Python 3.10.6 ('pyspark_env')",
   "language": "python",
   "name": "python3"
  },
  "language_info": {
   "codemirror_mode": {
    "name": "ipython",
    "version": 3
   },
   "file_extension": ".py",
   "mimetype": "text/x-python",
   "name": "python",
   "nbconvert_exporter": "python",
   "pygments_lexer": "ipython3",
   "version": "3.10.6"
  },
  "orig_nbformat": 4,
  "vscode": {
   "interpreter": {
    "hash": "3fbacc38e156424bc4feb2fa78cad4dfa544bcce4e4fb367bb488859be726019"
   }
  }
 },
 "nbformat": 4,
 "nbformat_minor": 2
}
